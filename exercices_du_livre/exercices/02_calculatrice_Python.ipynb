{
 "cells": [
  {
   "cell_type": "markdown",
   "metadata": {},
   "source": [
    "# Exercices du livre - Chapitre 2\n",
    "\n",
    "---"
   ]
  },
  {
   "cell_type": "markdown",
   "metadata": {},
   "source": [
    "### Exercice 1\n",
    "\n",
    "  On fournit une variable numérique flottante, `a`, avec une valeur quelconque. Écrire l'expression logique qui est **vraie** lorsque `a` est dans l'intervalle fermé $[10, 20]$."
   ]
  },
  {
   "cell_type": "code",
   "execution_count": 1,
   "metadata": {
    "collapsed": true
   },
   "outputs": [],
   "source": [
    "# Exercice 1"
   ]
  },
  {
   "cell_type": "markdown",
   "metadata": {},
   "source": [
    "### Exercice 2\n",
    "\n",
    "  Écrire un programme qui, à partir de la saisie d'un rayon et d'une hauteur, calcule le volume d'un cône droit en utilisant la formule : $V = \\frac{\\pi r^2 h}{3}$ où $r$ est le rayon de la base du cône et $h$ sa hauteur."
   ]
  },
  {
   "cell_type": "code",
   "execution_count": 2,
   "metadata": {
    "collapsed": true
   },
   "outputs": [],
   "source": [
    "# Exercice 2"
   ]
  },
  {
   "cell_type": "markdown",
   "metadata": {},
   "source": [
    "### Exercice 3\n",
    "\n",
    "  Soit une variable `nb_essais` contenant un nombre de tentatives déjà effectuées de saisie d'une valeur, ne pouvant dépasser 5 essais. Soit une variable `v` contenant un nombre entier que l'on veut strictement positif, divisible par 3 (le reste de sa division entière par 3 doit être nul) et strictement inférieur à 100.\n",
    "    \n",
    "  Donner l'expression logique qui est **vraie** lorsque la valeur n'est pas valide et qu'il est encore possible de tenter une nouvelle saisie."
   ]
  },
  {
   "cell_type": "code",
   "execution_count": 3,
   "metadata": {
    "collapsed": true
   },
   "outputs": [],
   "source": [
    "# Exercice 3"
   ]
  },
  {
   "cell_type": "markdown",
   "metadata": {},
   "source": [
    "### Exercice 4\n",
    "\n",
    "  À partir d'une variable :\n",
    "```python\n",
    "s = \"Dark side of the moon\"\n",
    "```\n",
    "écrire l'expression permettant, à partir de cette variable, de construire cette même chaîne avec la première lettre de chaque mot en majuscules, encadrée de caractères `\"=\"`, l'ensemble sur une largeur de 60 caractères : \n",
    "```python\n",
    "'===================Dark Side Of The Moon===================='\n",
    "```"
   ]
  },
  {
   "cell_type": "code",
   "execution_count": 4,
   "metadata": {
    "collapsed": true
   },
   "outputs": [],
   "source": [
    "# Exercice 4"
   ]
  },
  {
   "cell_type": "markdown",
   "metadata": {},
   "source": [
    "### Exercice 5\n",
    "\n",
    "  Entrez les dimensions d’un champ en hectomètres ($hm$) et afficher son aire en hectare ($ha$) et en kilomètres carrés ($km^2$)."
   ]
  },
  {
   "cell_type": "code",
   "execution_count": null,
   "metadata": {},
   "outputs": [],
   "source": [
    "# Exercice 5"
   ]
  },
  {
   "cell_type": "markdown",
   "metadata": {},
   "source": [
    "### Exercice 6\n",
    "\n",
    "  Entrez un nombre de secondes et affichez-le sous la forme : `[J:HH:MM:SS]`. Chaque lettre `H` (jour), `M` (minute) et `S`(seconde), doit occuper exactement 1 digit (mettre des 0 pour compléter le format demandé). On suppose, sans la vérifier, que la saisie est positive."
   ]
  },
  {
   "cell_type": "code",
   "execution_count": null,
   "metadata": {},
   "outputs": [],
   "source": [
    "# Exercice 6"
   ]
  }
 ],
 "metadata": {
  "kernelspec": {
   "display_name": "Python 3",
   "language": "python",
   "name": "python3"
  },
  "language_info": {
   "codemirror_mode": {
    "name": "ipython",
    "version": 3
   },
   "file_extension": ".py",
   "mimetype": "text/x-python",
   "name": "python",
   "nbconvert_exporter": "python",
   "pygments_lexer": "ipython3",
   "version": "3.7.6"
  }
 },
 "nbformat": 4,
 "nbformat_minor": 2
}
