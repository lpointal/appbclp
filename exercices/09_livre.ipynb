{
 "cells": [
  {
   "cell_type": "markdown",
   "metadata": {},
   "source": [
    "# Exercices du livre - Chapitre 9\n",
    "\n",
    "---"
   ]
  },
  {
   "cell_type": "markdown",
   "metadata": {},
   "source": [
    "### Exercice 1\n",
    "\n",
    "Écrire un module Python utilisant le module `tkinter` permettant de construire une interface de dialogue contenant un label \"Valeur : \" suivi d'un champ de saisie, en dessous duquel on trouve un bouton case à cocher associé au texte \"Toujours utiliser cette valeur\", et encore en dessous deux boutons \"Ok\" et \"Annuler\".\n",
    "\n",
    "![valeur](../../data/valeur.png)"
   ]
  },
  {
   "cell_type": "code",
   "execution_count": null,
   "metadata": {
    "collapsed": true
   },
   "outputs": [],
   "source": [
    "# Exercice 1"
   ]
  },
  {
   "cell_type": "markdown",
   "metadata": {},
   "source": [
    "### Exercice 2\n",
    "\n",
    "Écrire une interface graphique `tkinter` de saisie du nom et du mot de passe d'un utilisateur.  \n",
    "Ajouter un bouton \"Login\" qui quitte l'application.\n",
    "\n",
    "![tkpasswd](../../data/tkpasswd.png)"
   ]
  },
  {
   "cell_type": "code",
   "execution_count": null,
   "metadata": {
    "collapsed": true
   },
   "outputs": [],
   "source": [
    "# Exercice 2"
   ]
  },
  {
   "cell_type": "markdown",
   "metadata": {},
   "source": [
    "### Exercice 3\n",
    "\n",
    "  Modifier l'exercice précédent en vérifiant le mot de passe suivant les critères de l'exercice n°3 du chapitre 5. On pourra utiliser une méthode `bind()` comme sur l'exemple de la « calculette » développé dans le livre. La fonction de validation affichera « Mot de passe valide » ou « Mot de passe invalide » dans un widget `Label` de l'interface."
   ]
  },
  {
   "cell_type": "code",
   "execution_count": null,
   "metadata": {},
   "outputs": [],
   "source": [
    "# Exercice 3"
   ]
  }
 ],
 "metadata": {
  "kernelspec": {
   "display_name": "Python 3",
   "language": "python",
   "name": "python3"
  },
  "language_info": {
   "codemirror_mode": {
    "name": "ipython",
    "version": 3
   },
   "file_extension": ".py",
   "mimetype": "text/x-python",
   "name": "python",
   "nbconvert_exporter": "python",
   "pygments_lexer": "ipython3",
   "version": "3.7.6"
  }
 },
 "nbformat": 4,
 "nbformat_minor": 2
}
