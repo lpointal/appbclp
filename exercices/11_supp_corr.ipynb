{
 "cells": [
  {
   "cell_type": "markdown",
   "metadata": {},
   "source": [
    "# Chapitre 11 : \"L'écosystème Python\" - solutions\n",
    "\n",
    "***"
   ]
  },
  {
   "cell_type": "markdown",
   "metadata": {},
   "source": [
    "### exo11_01"
   ]
  },
  {
   "cell_type": "code",
   "execution_count": null,
   "metadata": {},
   "outputs": [],
   "source": [
    "# exo11_01\n",
    "\n",
    "# ~~~~~~~~~~~~~~~~~~~~~~~~~~~~~~~~~~~~~~~~~~~~~~~~~~~~~~~~~~~~~~~~~~~~~~~~~~~~~\n",
    "#    file: 11_supp_corr.ipynb\n",
    "# authors: Laurent Pointal <laurent.pointal@limsi.fr>\n",
    "#          Bob Cordeau <pycours@kordeo.eu>\n",
    "# license: Creative Commons Attribution-ShareAlike 4.0 International Public\n",
    "#          License (CC BY-SA 4.0)\n",
    "#  source: https://github.com/lpointal/appbclp\n",
    "#    desc: Ce programme sert de support au livre \"Python 3 - Apprendre à \n",
    "#          programmer dans l'écosystème Python\", édition Dunod, dans lequel \n",
    "#          les différentes sections sont expliquées\n",
    "#     url: https://www.dunod.com/sciences-techniques/python-3\n",
    "# ~~~~~~~~~~~~~~~~~~~~~~~~~~~~~~~~~~~~~~~~~~~~~~~~~~~~~~~~~~~~~~~~~~~~~~~~~~~~~\n",
    "\n",
    "# Import ~~~~~~~~~~~~~~~~~~~~~~~~~~~~~~~~~~~~~~~~~~~~~~~~~~~~~~~~~~~~~~~~~~~~~~\n",
    "import math\n",
    "\n",
    "# Globales ~~~~~~~~~~~~~~~~~~~~~~~~~~~~~~~~~~~~~~~~~~~~~~~~~~~~~~~~~~~~~~~~~~~~\n",
    "b = math.sqrt(89)  # x max pour BG = (4 * BC)/5 = 8\n",
    "a = math.sqrt(29)  # x min pour BG = BC/5 = 2\n",
    "\n",
    "# Définition de fonction ~~~~~~~~~~~~~~~~~~~~~~~~~~~~~~~~~~~~~~~~~~~~~~~~~~~~~~\n",
    "def f(x):\n",
    "    \"\"\"aire_broutée(x) - moitié de l'aire du champ.\"\"\"\n",
    "\n",
    "    # Angles\n",
    "    beta = math.acos(5/x)\n",
    "    alpha = math.pi - (2 * beta)\n",
    "    \n",
    "    # Aire du demi disque de rayon x\n",
    "    aire_dd = math.pi * x**2 / 2\n",
    "    \n",
    "    # Aire du segment circulaire d'angle AEF et de rayon x\n",
    "    aire_sc = (alpha  * x**2 / 2) - (x**2 * math.sin(beta) / 2)\n",
    "    \n",
    "    # Aire broutée\n",
    "    aire_broutee = aire_dd - aire_sc\n",
    "    \n",
    "    return aire_broutee - 50\n",
    "\n",
    "# Programme principal =========================================================\n",
    "eps = float(input(\"\\nprécision : \"))\n",
    "\n",
    "while (b - a) > eps:\n",
    "    m = (a + b) / 2\n",
    "    if f(a) * f(m) <= 0:\n",
    "        b = m\n",
    "    else:\n",
    "        a = m\n",
    "\n",
    "## Affichage avec la précision de eps\n",
    "print(f\"Longueur de la corde : {round(m, int(-math.log10(eps)))} m\")\n",
    "\n",
    "\"\"\"\n",
    "Exemples d'exécution :\n",
    "\n",
    "précision : 0.01\n",
    "Longueur de la corde : 6.8 m\n",
    "\n",
    "précision : 0.001\n",
    "Longueur de la corde : 6.796 m\n",
    "\n",
    "précision : 1e-4\n",
    "Longueur de la corde : 6.7958 m\n",
    "\"\"\""
   ]
  }
 ],
 "metadata": {
  "kernelspec": {
   "display_name": "Python 3",
   "language": "python",
   "name": "python3"
  },
  "language_info": {
   "codemirror_mode": {
    "name": "ipython",
    "version": 3
   },
   "file_extension": ".py",
   "mimetype": "text/x-python",
   "name": "python",
   "nbconvert_exporter": "python",
   "pygments_lexer": "ipython3",
   "version": "3.7.6"
  }
 },
 "nbformat": 4,
 "nbformat_minor": 4
}
