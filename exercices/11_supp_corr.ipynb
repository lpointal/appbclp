{
 "cells": [
  {
   "cell_type": "markdown",
   "metadata": {},
   "source": [
    "# Chapitre 11 : \"L'écosystème Python\" - solutions\n",
    "\n",
    "---\n",
    "\n",
    "<table class=\"appbclp1\">\n",
    "<tr> <td style=\"font-weight: bold!;\">auteurs :</td><td style=\"text-align: left!;\">Laurent Pointal &lt;<a href=\"mailtp:laurent.pointal@limsi.fr\">laurent.pointal@limsi.fr</a>&gt; &amp; Bob Cordeau &lt;<a href=\"pycours@kordeo.eu\">pycours@kordeo.eu</a>&gt; </td> </tr>\n",
    "<tr> <td style=\"font-weight: bold!;\">licence :</td><td style=\"text-align: left!;\">Creative Commons Attribution-ShareAlike 4.0 International Public License (CC BY-SA 4.0) </td> </tr>\n",
    "<tr> <td style=\"font-weight: bold!;\">source :</td><td style=\"text-align: left!;\"><a href=\"https://github.com/lpointal/appbclp\">https://github.com/lpointal/appbclp</a></td> </tr>\n",
    "<tr> <td style=\"font-weight: bold!;\">description :</td><td style=\"text-align: left!;\">Les programmes dans ce Notebook Jupyter servent de support au livre <span style=\"font-style: italic!;\">« Python 3 - Apprendre à  programmer dans l'écosystème Python»</span>, édition Dunod, dans lequel les différentes sections sont expliquées </td> </tr>\n",
    "<tr> <td style=\"font-weight: bold!;\">url :</td><td style=\"text-align: left!;\"><a href=\"https://www.dunod.com/sciences-techniques/python-3\">https://www.dunod.com/EAN/9782100809141</a></td> </tr>\n",
    "</table>\n",
    "\n",
    "---"
   ]
  },
  {
   "cell_type": "markdown",
   "metadata": {},
   "source": [
    "### exo11_01"
   ]
  },
  {
   "cell_type": "code",
   "execution_count": null,
   "metadata": {},
   "outputs": [],
   "source": [
    "# exo11_01\n",
    "\n",
    "# Import ~~~~~~~~~~~~~~~~~~~~~~~~~~~~~~~~~~~~~~~~~~~~~~~~~~~~~~~~~~~~~~~~~~~~~~\n",
    "import math\n",
    "\n",
    "# Globales ~~~~~~~~~~~~~~~~~~~~~~~~~~~~~~~~~~~~~~~~~~~~~~~~~~~~~~~~~~~~~~~~~~~~\n",
    "b = math.sqrt(89)  # x max pour BG = (4 * BC)/5 = 8\n",
    "a = math.sqrt(29)  # x min pour BG = BC/5 = 2\n",
    "\n",
    "# Définition de fonction ~~~~~~~~~~~~~~~~~~~~~~~~~~~~~~~~~~~~~~~~~~~~~~~~~~~~~~\n",
    "def f(x):\n",
    "    \"\"\"aire_broutée(x) - moitié de l'aire du champ.\"\"\"\n",
    "\n",
    "    # Angles\n",
    "    beta = math.acos(5/x)\n",
    "    alpha = math.pi - (2 * beta)\n",
    "    \n",
    "    # Aire du demi disque de rayon x\n",
    "    aire_dd = math.pi * x**2 / 2\n",
    "    \n",
    "    # Aire du segment circulaire d'angle AEF et de rayon x\n",
    "    aire_sc = (alpha  * x**2 / 2) - (x**2 * math.sin(beta) / 2)\n",
    "    \n",
    "    # Aire broutée\n",
    "    aire_broutee = aire_dd - aire_sc\n",
    "    \n",
    "    return aire_broutee - 50\n",
    "\n",
    "# Programme principal =========================================================\n",
    "eps = float(input(\"\\nprécision : \"))\n",
    "\n",
    "while (b - a) > eps:\n",
    "    m = (a + b) / 2\n",
    "    if f(a) * f(m) <= 0:\n",
    "        b = m\n",
    "    else:\n",
    "        a = m\n",
    "\n",
    "## Affichage avec la précision de eps\n",
    "print(f\"Longueur de la corde : {round(m, int(-math.log10(eps)))} m\")\n",
    "\n",
    "\"\"\"\n",
    "Exemples d'exécution :\n",
    "\n",
    "précision : 0.01\n",
    "Longueur de la corde : 6.8 m\n",
    "\n",
    "précision : 0.001\n",
    "Longueur de la corde : 6.796 m\n",
    "\n",
    "précision : 1e-4\n",
    "Longueur de la corde : 6.7958 m\n",
    "\"\"\""
   ]
  }
 ],
 "metadata": {
  "kernelspec": {
   "display_name": "Python 3",
   "language": "python",
   "name": "python3"
  },
  "language_info": {
   "codemirror_mode": {
    "name": "ipython",
    "version": 3
   },
   "file_extension": ".py",
   "mimetype": "text/x-python",
   "name": "python",
   "nbconvert_exporter": "python",
   "pygments_lexer": "ipython3",
   "version": "3.7.6"
  }
 },
 "nbformat": 4,
 "nbformat_minor": 4
}
