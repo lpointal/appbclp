{
 "cells": [
  {
   "cell_type": "markdown",
   "metadata": {},
   "source": [
    "# Exercices du livre - Chapitre 7\n",
    "\n",
    "---"
   ]
  },
  {
   "cell_type": "markdown",
   "metadata": {},
   "source": [
    "### Exercice 1 ✓\n",
    "\n",
    "  Soit une liste `lst` contenant des tuples de valeurs :\n",
    "```python\n",
    "(nom, masse, volume)\n",
    "```\n",
    "où `nom` est le nom d'un élément chimique, `masse` est une valeur flottante exprimée en grammes et `volume` une valeur flottante exprimée en cm<sup>3</sup>. \n",
    "```python\n",
    "lst = [('Arsenic', 17.8464, 3.12), ('Aluminium', 16.767, 6.21), ('Or', 239320, 12400)]\n",
    "```    \n",
    "Enregistrer les données de `lst` dans un fichier texte (`elements.txt`), dont chaque ligne correspond à un élément, avec le format suivant : `nom de l'élément = masse volumique g/cm3`. \n",
    "    \n",
    "  Par exemple :\n",
    "```python    \n",
    "Arsenic = 5.72 g/cm3\n",
    "```     "
   ]
  },
  {
   "cell_type": "code",
   "execution_count": null,
   "metadata": {
    "collapsed": true
   },
   "outputs": [],
   "source": [
    "# Exercice 1"
   ]
  },
  {
   "cell_type": "markdown",
   "metadata": {},
   "source": [
    "### Exercice 2 ✓\n",
    "\n",
    "Soit un fichier texte `elements.txt` contenant :\n",
    "```text\n",
    "Arsenic = 5.72 g/cm3\n",
    "Aluminium = 2.70 g/cm3\n",
    "Or = 19.30 g/cm3   \n",
    "```    \n",
    "  Écrire un programme qui demande à un utilisateur de saisir un volume en cm<sup>3</sup>, puis qui utilise le fichier ci-dessus afin d'afficher pour chaque élément la masse correspondant au volume saisi."
   ]
  },
  {
   "cell_type": "code",
   "execution_count": null,
   "metadata": {
    "collapsed": true
   },
   "outputs": [],
   "source": [
    "# Exercice 2"
   ]
  },
  {
   "cell_type": "markdown",
   "metadata": {},
   "source": [
    "### Exercice 3 ✓\n",
    "\n",
    "  Le module `time` fournit une fonction `asctime()` retournant sous forme de chaîne la date et l'heure courantes formatées.  \n",
    "  Écrire une fonction `note_journal(nomfichier, message)` qui, à chaque appel, **ajoute à la fin du fichier** dont le nom est donné en paramètre une ligne contenant la date et l'heure courantes suivies du message donné lui aussi en paramètre.\n",
    "    \n",
    "  **Note** : Pour les tests, il est possible de faire des pauses dans le programme avec la fonction `time.sleep(n)`, où `n` est un nombre flottant de secondes."
   ]
  },
  {
   "cell_type": "code",
   "execution_count": null,
   "metadata": {
    "collapsed": true
   },
   "outputs": [],
   "source": [
    "# Exercice 3"
   ]
  }
 ],
 "metadata": {
  "kernelspec": {
   "display_name": "Python 3",
   "language": "python",
   "name": "python3"
  },
  "language_info": {
   "codemirror_mode": {
    "name": "ipython",
    "version": 3
   },
   "file_extension": ".py",
   "mimetype": "text/x-python",
   "name": "python",
   "nbconvert_exporter": "python",
   "pygments_lexer": "ipython3",
   "version": "3.7.6"
  }
 },
 "nbformat": 4,
 "nbformat_minor": 2
}
