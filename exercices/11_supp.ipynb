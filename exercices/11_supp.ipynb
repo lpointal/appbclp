{
 "cells": [
  {
   "cell_type": "markdown",
   "metadata": {},
   "source": [
    "# Chapitre 11 : \"L'écosystème Python\"\n",
    "\n",
    "#### <span class=\"bg-info\">« *À trouver* »</span>\n",
    "\n",
    "Anne Honime"
   ]
  },
  {
   "cell_type": "markdown",
   "metadata": {},
   "source": [
    "### <span class=\"bg-success\">CE QU'IL FAUT RETENIR</span>\n"
   ]
  },
  {
   "cell_type": "markdown",
   "metadata": {},
   "source": [
    "### exo11_01 ✓✓✓\n",
    "\n",
    "Problème de la chèvre.\n",
    "\n",
    "Un paysant fait brouter sa chèvre dans un champ carré de 10 m de côté. La chèvre est attachée à un piquet au milieu d'un côté.\n",
    "\n",
    "![géométrie du problème](../data/kapro.png)\n",
    "\n",
    "On demande de trouver la *longueur de la corde* pour que la chèvre broute la moitié du champ.\n",
    "\n",
    "**Notations :**\n",
    "    \n",
    "+ carré $ABCD$ de côté 10 m\n",
    "+ piquet de la chèvre en $E$, milieu de $AB$\n",
    "+ la corde de longueur `x` coupe $AD$ en $F$ et $BC$ en $G$\n",
    "+ $\\beta = \\widehat{AEF} = \\arccos{AE/EF} = \\arccos{5/x}$\n",
    "+ $\\alpha = \\widehat{FEG} = \\pi - (2 \\times \\beta)$\n",
    "\n",
    "**Indications :**\n",
    "\n",
    "On cherche par [dichotomie](https://fr.wikipedia.org/wiki/M%C3%A9thode_de_dichotomie) le zéro de la fonction : `f(x) = aire_broutée(x) - moitié de l'aire du champ`\n",
    "        \n",
    "L'aire broutée par la chèvre vaut : `aire_broutée = aire_dd - 2 * (aire_ds)`, où :\n",
    "\n",
    "+ `aire_dd` est l'aire du demi disque de rayon x : \n",
    "    - `aire_dd = pi + x**2 / 2`\n",
    "+ `aire_sc` est l'aire du segment circulaire d'angle beta et de rayon x :\n",
    "    - `aire_sc = beta * x**2 / 2 - (x**2 * sin(beta)) / 2 =  (x**2)/2 + (beta - sin(beta))`\n",
    "    \n",
    "**Algorithme à utiliser :**\n",
    "\n",
    "![bissection](../data/bissection.png)\n",
    "\n",
    "Avec :\n",
    "\n",
    "+ `a` : longueur minimale de la corde. On fixe `a` tel que $BG_a = BC / 5$\n",
    "+ `b` : longueur maximale de la corde. On fixe `b` tel que $BG_b = (4 \\times BC) / 5$\n",
    "+ $\\varepsilon$ : précision du calcul"
   ]
  },
  {
   "cell_type": "code",
   "execution_count": null,
   "metadata": {},
   "outputs": [],
   "source": [
    "# exo11_01"
   ]
  }
 ],
 "metadata": {
  "kernelspec": {
   "display_name": "Python 3",
   "language": "python",
   "name": "python3"
  },
  "language_info": {
   "codemirror_mode": {
    "name": "ipython",
    "version": 3
   },
   "file_extension": ".py",
   "mimetype": "text/x-python",
   "name": "python",
   "nbconvert_exporter": "python",
   "pygments_lexer": "ipython3",
   "version": "3.7.6"
  }
 },
 "nbformat": 4,
 "nbformat_minor": 4
}
